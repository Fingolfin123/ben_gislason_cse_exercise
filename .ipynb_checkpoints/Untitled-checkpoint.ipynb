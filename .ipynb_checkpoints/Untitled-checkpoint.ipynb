{
 "cells": [
  {
   "cell_type": "code",
   "execution_count": 1,
   "metadata": {},
   "outputs": [
    {
     "name": "stdout",
     "output_type": "stream",
     "text": [
      "Processing c:\\users\\bgislas\\documents\\github\\ben_gislason_cse_exercise\n",
      "Requirement already satisfied: pandas>=1.0.4 in c:\\users\\bgislas\\anaconda3\\lib\\site-packages (from ben-gislason-cse-exercise==1.0.0) (1.1.3)\n",
      "Requirement already satisfied: matplotlib>=1.0.0 in c:\\users\\bgislas\\anaconda3\\lib\\site-packages (from ben-gislason-cse-exercise==1.0.0) (3.3.2)\n",
      "Requirement already satisfied: seaborn>=0.0.1 in c:\\users\\bgislas\\anaconda3\\lib\\site-packages (from ben-gislason-cse-exercise==1.0.0) (0.11.0)\n",
      "Requirement already satisfied: numpy>=1.15.4 in c:\\users\\bgislas\\anaconda3\\lib\\site-packages (from pandas>=1.0.4->ben-gislason-cse-exercise==1.0.0) (1.19.2)\n",
      "Requirement already satisfied: python-dateutil>=2.7.3 in c:\\users\\bgislas\\anaconda3\\lib\\site-packages (from pandas>=1.0.4->ben-gislason-cse-exercise==1.0.0) (2.8.1)\n",
      "Requirement already satisfied: pytz>=2017.2 in c:\\users\\bgislas\\anaconda3\\lib\\site-packages (from pandas>=1.0.4->ben-gislason-cse-exercise==1.0.0) (2020.1)\n",
      "Requirement already satisfied: kiwisolver>=1.0.1 in c:\\users\\bgislas\\anaconda3\\lib\\site-packages (from matplotlib>=1.0.0->ben-gislason-cse-exercise==1.0.0) (1.3.0)\n",
      "Requirement already satisfied: pillow>=6.2.0 in c:\\users\\bgislas\\anaconda3\\lib\\site-packages (from matplotlib>=1.0.0->ben-gislason-cse-exercise==1.0.0) (8.0.1)\n",
      "Requirement already satisfied: pyparsing!=2.0.4,!=2.1.2,!=2.1.6,>=2.0.3 in c:\\users\\bgislas\\anaconda3\\lib\\site-packages (from matplotlib>=1.0.0->ben-gislason-cse-exercise==1.0.0) (2.4.7)\n",
      "Requirement already satisfied: certifi>=2020.06.20 in c:\\users\\bgislas\\anaconda3\\lib\\site-packages (from matplotlib>=1.0.0->ben-gislason-cse-exercise==1.0.0) (2020.6.20)\n",
      "Requirement already satisfied: cycler>=0.10 in c:\\users\\bgislas\\anaconda3\\lib\\site-packages (from matplotlib>=1.0.0->ben-gislason-cse-exercise==1.0.0) (0.10.0)\n",
      "Requirement already satisfied: scipy>=1.0 in c:\\users\\bgislas\\anaconda3\\lib\\site-packages (from seaborn>=0.0.1->ben-gislason-cse-exercise==1.0.0) (1.5.2)\n",
      "Requirement already satisfied: six>=1.5 in c:\\users\\bgislas\\anaconda3\\lib\\site-packages (from python-dateutil>=2.7.3->pandas>=1.0.4->ben-gislason-cse-exercise==1.0.0) (1.15.0)\n",
      "Building wheels for collected packages: ben-gislason-cse-exercise\n",
      "  Building wheel for ben-gislason-cse-exercise (setup.py): started\n",
      "  Building wheel for ben-gislason-cse-exercise (setup.py): finished with status 'done'\n",
      "  Created wheel for ben-gislason-cse-exercise: filename=ben_gislason_cse_exercise-1.0.0-py3-none-any.whl size=7290 sha256=3d93fa1fccc3b1cc37dadc2831f8c3d563bf9679a5428fff600635cd991a0aef\n",
      "  Stored in directory: C:\\Users\\bgislas\\AppData\\Local\\Temp\\pip-ephem-wheel-cache-sanx_k82\\wheels\\46\\53\\7f\\2ed734429f8650b6de5d546c17b1326d4e6ca36405b26274a1\n",
      "Successfully built ben-gislason-cse-exercise\n",
      "Installing collected packages: ben-gislason-cse-exercise\n",
      "  Attempting uninstall: ben-gislason-cse-exercise\n",
      "    Found existing installation: ben-gislason-cse-exercise 1.0.0\n",
      "    Uninstalling ben-gislason-cse-exercise-1.0.0:\n",
      "      Successfully uninstalled ben-gislason-cse-exercise-1.0.0\n",
      "Successfully installed ben-gislason-cse-exercise-1.0.0\n",
      "Note: you may need to restart the kernel to use updated packages.\n"
     ]
    }
   ],
   "source": [
    "pip install ."
   ]
  },
  {
   "cell_type": "code",
   "execution_count": 2,
   "metadata": {},
   "outputs": [
    {
     "ename": "NameError",
     "evalue": "name 'sqlite3' is not defined",
     "output_type": "error",
     "traceback": [
      "\u001b[1;31m---------------------------------------------------------------------------\u001b[0m",
      "\u001b[1;31mNameError\u001b[0m                                 Traceback (most recent call last)",
      "\u001b[1;32m<ipython-input-2-2107deadfcd4>\u001b[0m in \u001b[0;36m<module>\u001b[1;34m\u001b[0m\n\u001b[0;32m      1\u001b[0m \u001b[1;32mfrom\u001b[0m \u001b[0mben_gislason_cse_exercise\u001b[0m\u001b[1;33m.\u001b[0m\u001b[0mdata_processor\u001b[0m \u001b[1;32mimport\u001b[0m \u001b[0mDataProcessor\u001b[0m\u001b[1;33m\u001b[0m\u001b[1;33m\u001b[0m\u001b[0m\n\u001b[1;32m----> 2\u001b[1;33m \u001b[0mmy_data_processor\u001b[0m \u001b[1;33m=\u001b[0m \u001b[0mDataProcessor\u001b[0m\u001b[1;33m(\u001b[0m\u001b[1;34m'c:/users/bgislas/Downloads/CSE_exercise_2021_09_29-13h_09m.db'\u001b[0m\u001b[1;33m)\u001b[0m\u001b[1;33m\u001b[0m\u001b[1;33m\u001b[0m\u001b[0m\n\u001b[0m",
      "\u001b[1;32m~\\Documents\\GitHub\\ben_gislason_cse_exercise\\ben_gislason_cse_exercise\\data_processor.py\u001b[0m in \u001b[0;36m__init__\u001b[1;34m(self, db_path)\u001b[0m\n\u001b[0;32m      8\u001b[0m \u001b[1;32mclass\u001b[0m \u001b[0mDataProcessor\u001b[0m\u001b[1;33m:\u001b[0m\u001b[1;33m\u001b[0m\u001b[1;33m\u001b[0m\u001b[0m\n\u001b[0;32m      9\u001b[0m     \u001b[1;32mdef\u001b[0m \u001b[0m__init__\u001b[0m\u001b[1;33m(\u001b[0m\u001b[0mself\u001b[0m\u001b[1;33m,\u001b[0m \u001b[0mdb_path\u001b[0m\u001b[1;33m)\u001b[0m\u001b[1;33m:\u001b[0m\u001b[1;33m\u001b[0m\u001b[1;33m\u001b[0m\u001b[0m\n\u001b[1;32m---> 10\u001b[1;33m         \u001b[0mself\u001b[0m\u001b[1;33m.\u001b[0m\u001b[0mconn\u001b[0m \u001b[1;33m=\u001b[0m \u001b[0msqlite3\u001b[0m\u001b[1;33m.\u001b[0m\u001b[0mconnect\u001b[0m\u001b[1;33m(\u001b[0m\u001b[0mdb_path\u001b[0m\u001b[1;33m)\u001b[0m\u001b[1;33m\u001b[0m\u001b[1;33m\u001b[0m\u001b[0m\n\u001b[0m\u001b[0;32m     11\u001b[0m         \u001b[0mself\u001b[0m\u001b[1;33m.\u001b[0m\u001b[0mpath\u001b[0m \u001b[1;33m=\u001b[0m \u001b[0mdb_path\u001b[0m\u001b[1;33m\u001b[0m\u001b[1;33m\u001b[0m\u001b[0m\n\u001b[0;32m     12\u001b[0m \u001b[1;33m\u001b[0m\u001b[0m\n",
      "\u001b[1;31mNameError\u001b[0m: name 'sqlite3' is not defined"
     ]
    }
   ],
   "source": [
    "from ben_gislason_cse_exercise.data_processor import DataProcessor\n",
    "my_data_processor = DataProcessor('c:/users/bgislas/Downloads/CSE_exercise_2021_09_29-13h_09m.db')"
   ]
  },
  {
   "cell_type": "code",
   "execution_count": null,
   "metadata": {},
   "outputs": [],
   "source": []
  }
 ],
 "metadata": {
  "kernelspec": {
   "display_name": "Python 3",
   "language": "python",
   "name": "python3"
  },
  "language_info": {
   "codemirror_mode": {
    "name": "ipython",
    "version": 3
   },
   "file_extension": ".py",
   "mimetype": "text/x-python",
   "name": "python",
   "nbconvert_exporter": "python",
   "pygments_lexer": "ipython3",
   "version": "3.8.5"
  }
 },
 "nbformat": 4,
 "nbformat_minor": 4
}
